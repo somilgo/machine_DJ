{
 "cells": [
  {
   "cell_type": "code",
   "execution_count": 5,
   "metadata": {},
   "outputs": [
    {
     "name": "stdout",
     "output_type": "stream",
     "text": [
      "[[-1.20900899  0.49393947 -1.0578933  ... -0.89358957  1.03449038\n",
      "  -1.47197714]\n",
      " [ 0.34921732 -1.26589557 -0.13707041 ... -1.00233651 -1.86013579\n",
      "  -1.63433117]\n",
      " [-1.4915946   0.20563664  1.20705458 ... -1.58910924 -1.26380863\n",
      "   1.67952962]\n",
      " ...\n",
      " [ 0.02277721 -2.49413244  0.13019384 ...  0.88861731 -0.0982351\n",
      "  -0.69761741]\n",
      " [ 0.93760305 -1.67510626 -0.06912915 ...  0.88960406  1.4941277\n",
      "   2.01634933]\n",
      " [-0.51495213  1.06364063  0.40720728 ... -1.37329901  0.73417038\n",
      "   0.07484923]]\n",
      "--------\n",
      "[0 1 1 0 0 1 1 1 0 0 0 0 1 1 1 0 1 1 1 0 0 1 0 1 0 1 1 1 0 1 0 1 1 0 0 0 1\n",
      " 0 1 0 1 1 0 1 1 1 1 0 1 1 1 1 0 0 1 1 0 0 0 0 1 1 0 0 1 1 1 0 1 1 0 1 1 0\n",
      " 0 0 1 0 0 0 1 0 1 0 1 0 0 1 0 0 1 0 1 1 1 0 0 0 0 0]\n"
     ]
    }
   ],
   "source": [
    "from sklearn.datasets import make_classification\n",
    "from sklearn.linear_model import LogisticRegression\n",
    "\n",
    "X, y = make_classification(random_state=31)\n",
    "print(X)\n",
    "print(\"--------\")\n",
    "print(y)\n",
    "clf = LogisticRegression(random_state=0, solver='liblinear').fit(X, y)"
   ]
  },
  {
   "cell_type": "code",
   "execution_count": null,
   "metadata": {},
   "outputs": [],
   "source": []
  }
 ],
 "metadata": {
  "kernelspec": {
   "display_name": "Python 3",
   "language": "python",
   "name": "python3"
  },
  "language_info": {
   "codemirror_mode": {
    "name": "ipython",
    "version": 3
   },
   "file_extension": ".py",
   "mimetype": "text/x-python",
   "name": "python",
   "nbconvert_exporter": "python",
   "pygments_lexer": "ipython3",
   "version": "3.6.4"
  }
 },
 "nbformat": 4,
 "nbformat_minor": 2
}
