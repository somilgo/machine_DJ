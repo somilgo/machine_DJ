{
 "cells": [
  {
   "cell_type": "code",
   "execution_count": 18,
   "metadata": {},
   "outputs": [],
   "source": [
    "import csv\n",
    "import pandas as pd\n",
    "import pickle\n",
    "\n",
    "THRESHOLD = 7.5\n",
    "SAMPLE_LENGTH = 1000\n",
    "\n",
    "STRIDE_SIZE = 10.\n",
    "FRAME_SIZE = 25.\n",
    "N_MFCC = 16\n",
    "\n",
    "def get_mfcc_features(song_data, sample_rate, stride_size = STRIDE_SIZE, frame_size = FRAME_SIZE):\n",
    "    mfccs = librosa.feature.mfcc(song_data, sample_rate, \n",
    "                                 n_mfcc=N_MFCC,\n",
    "                                 hop_length=int(STRIDE_SIZE / 1000. * sample_rate), \n",
    "                                 n_fft=int(FRAME_SIZE / 1000. * sample_rate))\n",
    "    return mfccs\n",
    "\n",
    "def load_song(song_file):\n",
    "    data, samplerate = sf.read(song_file)\n",
    "    data = data[:, 0]\n",
    "    mfccs = get_mfcc_features(data, samplerate)\n",
    "    mfccs = np.asarray(mfccs).T\n",
    "    return mfccs\n",
    "\n",
    "def peaks_to_windows(song_name, peaks):\n",
    "    mfccs = load_song(song_name)\n",
    "    samples = []\n",
    "    for p in peaks:\n",
    "        n = (p - FRAME_SIZE) / STRIDE_SIZE\n",
    "        samples.append(mfccs[n-(SAMPLE_LENGTH//2):n+(SAMPLE_LENGTH//2), :])\n",
    "    print(np.shape(samples[0]))\n",
    "    return samples\n",
    "        \n",
    "    \n",
    "    "
   ]
  },
  {
   "cell_type": "code",
   "execution_count": 16,
   "metadata": {},
   "outputs": [
    {
     "name": "stdout",
     "output_type": "stream",
     "text": [
      "Ariana_Grande___Side_To_Side_(TRU_Concept_Remix_ft._Romany)\n",
      "['170.1']\n",
      "0.9951690821256038\n"
     ]
    }
   ],
   "source": [
    "\n",
    "\n",
    "results_file = open('resultsFile', 'rb')      \n",
    "results = pickle.load(results_file) \n",
    "list.sort(results, key = lambda x : x[0])\n",
    "\n",
    "df = pd.read_csv(\"songs_fixed.csv\")\n",
    "\n",
    "detection_count = 0\n",
    "drop_count = 0\n",
    "bad_peaks_overall = []\n",
    "good_peaks_overall = []\n",
    "\n",
    "for i in range(len(results)):\n",
    "    drops = str(df.iloc[[i]][\"Drops\"][i]).split(\", \")\n",
    "    peaks = results[i][1]\n",
    "    good_peaks = set()\n",
    "    temp_detection_count = 0\n",
    "    songname = df.iloc[[i]][\"Song Name\"][i]\n",
    "    drops_found = []\n",
    "    for d in drops:\n",
    "        for p in peaks:\n",
    "            dval = float(d)\n",
    "            pval = float(p[0])\n",
    "            if pval >= dval - THRESHOLD and pval <= dval + THRESHOLD:\n",
    "                temp_detection_count += 1\n",
    "                drops_found.append(d)\n",
    "                good_peaks.add(p)\n",
    "                break\n",
    "    if temp_detection_count < len(drops):\n",
    "        print(songname)\n",
    "        print(drops_found)\n",
    "    bad_peaks = set(peaks) - good_peaks\n",
    "    drop_count += len(drops)\n",
    "    detection_count += temp_detection_count\n",
    "\n",
    "print(detection_count / drop_count)"
   ]
  },
  {
   "cell_type": "markdown",
   "metadata": {},
   "source": []
  }
 ],
 "metadata": {
  "kernelspec": {
   "display_name": "Python 3",
   "language": "python",
   "name": "python3"
  },
  "language_info": {
   "codemirror_mode": {
    "name": "ipython",
    "version": 3
   },
   "file_extension": ".py",
   "mimetype": "text/x-python",
   "name": "python",
   "nbconvert_exporter": "python",
   "pygments_lexer": "ipython3",
   "version": "3.6.7"
  }
 },
 "nbformat": 4,
 "nbformat_minor": 2
}
