{
 "cells": [
  {
   "cell_type": "code",
   "execution_count": 34,
   "metadata": {},
   "outputs": [],
   "source": [
    "import librosa\n",
    "import soundfile as sf\n",
    "import numpy as np\n",
    "\n",
    "STRIDE_SIZE = 10.\n",
    "FRAME_SIZE = 25.\n",
    "N_MFCC = 16\n",
    "\n",
    "def get_mfcc_features(song_data, sample_rate, stride_size = STRIDE_SIZE, frame_size = FRAME_SIZE):\n",
    "    mfccs = librosa.feature.mfcc(song_data, sample_rate, \n",
    "                                 n_mfcc=N_MFCC,\n",
    "                                 hop_length=int(STRIDE_SIZE / 1000. * sample_rate), \n",
    "                                 n_fft=int(FRAME_SIZE / 1000. * sample_rate))\n",
    "    mfcc_delta1 = librosa.feature.delta(mfccs, order=1)\n",
    "    mfcc_delta2 = librosa.feature.delta(mfccs, order=2)\n",
    "    mfccs = np.asarray(mfccs)\n",
    "    mfcc_delta1 = np.asarray(mfcc_delta1)\n",
    "    mfcc_delta2 = np.asarray(mfcc_delta2)\n",
    "\n",
    "    return np.concatenate((mfccs.T, mfcc_delta1.T, mfcc_delta2.T), axis=1)\n"
   ]
  },
  {
   "cell_type": "code",
   "execution_count": 35,
   "metadata": {},
   "outputs": [
    {
     "name": "stdout",
     "output_type": "stream",
     "text": [
      "(6014, 16)\n"
     ]
    }
   ],
   "source": [
    "file = \"../wavs/pop/pop.00008.wav\"\n",
    "data, samplerate = sf.read(file)\n",
    "mfcc_fts = get_mfcc_features(data, samplerate)\n",
    "file = \"../wavs/pop/pop.00007.wav\"\n",
    "data, samplerate = sf.read(file)\n",
    "mfcc_fts2 = get_mfcc_features(data, samplerate)\n",
    "mfcc_tot = np.concatenate((mfcc_fts, mfcc_fts2), axis=0)\n",
    "print(np.shape(mfcc_tot))"
   ]
  },
  {
   "cell_type": "code",
   "execution_count": 37,
   "metadata": {},
   "outputs": [],
   "source": [
    "import os\n",
    "\n",
    "ROOT_DIRECTORY = \"../wavs\"\n",
    "GENRE_COUNT = 5\n",
    "SONGS_PER_GENRE = 25\n",
    "SOUND_SIZE = 3\n",
    "X = np.empty((GENRE_COUNT * SONGS_PER_GENRE * 1000, SOUND_SIZE, N_MFCC))\n",
    "\n",
    "song_count = 0\n",
    "for directory in next(os.walk(ROOT_DIRECTORY))[1][:GENRE_COUNT]:\n",
    "    for filename in os.listdir(ROOT_DIRECTORY + \"/\" + directory)[:SONGS_PER_GENRE]:\n",
    "        fp = ROOT_DIRECTORY + \"/\" + directory + \"/\" + filename\n",
    "        data, sr = sf.read(fp)\n",
    "        mfcc_fts = get_mfcc_features(data, samplerate)[:3000, :]\n",
    "        mfcc_fts_grouped = [mfcc_fts[i:i+SOUND_SIZE] for i in range(len(mfcc_fts)//SOUND_SIZE)]\n",
    "        X[song_count * 1000 : (song_count+1) * 1000, :] = mfcc_fts_grouped"
   ]
  },
  {
   "cell_type": "code",
   "execution_count": 38,
   "metadata": {},
   "outputs": [
    {
     "name": "stdout",
     "output_type": "stream",
     "text": [
      "Initial clustering of sounds via KMeans\n"
     ]
    }
   ],
   "source": [
    "#Initialize Sound HMMs\n",
    "from hmmlearn import hmm\n",
    "from sklearn.cluster import KMeans\n",
    "\n",
    "NUM_SOUND_HMMS = 20\n",
    "X_means = np.mean(X, axis=1)\n",
    "\n",
    "print(\"Initial clustering of sounds via KMeans\")\n",
    "kmeans = KMeans(n_clusters=NUM_SOUND_HMMS, n_init=10).fit(X_means)\n",
    "clusters = [ [] for c in range(NUM_SOUND_HMMS)]\n",
    "for index, label in enumerate(kmeans.labels_):\n",
    "    clusters[label].append(X[index])"
   ]
  },
  {
   "cell_type": "code",
   "execution_count": 39,
   "metadata": {},
   "outputs": [
    {
     "name": "stdout",
     "output_type": "stream",
     "text": [
      "Clusters: 20\n",
      "Initializing GMMHMM Models\n",
      "Fitting GMMHMM Models using initial sound clustering\n",
      "(124000, 3, 16)\n",
      "(93, 3, 16)\n",
      "(104, 3, 16)\n",
      "(25, 3, 16)\n",
      "(72, 3, 16)\n",
      "(28, 3, 16)\n",
      "(28, 3, 16)\n",
      "(54, 3, 16)\n",
      "(71, 3, 16)\n",
      "(60, 3, 16)\n",
      "(26, 3, 16)\n",
      "(36, 3, 16)\n",
      "(34, 3, 16)\n",
      "(50, 3, 16)\n",
      "(48, 3, 16)\n",
      "(87, 3, 16)\n",
      "(43, 3, 16)\n",
      "(58, 3, 16)\n",
      "(48, 3, 16)\n",
      "(35, 3, 16)\n"
     ]
    }
   ],
   "source": [
    "print(\"Clusters:\", len(clusters))\n",
    "sound_HMMs = []\n",
    "\n",
    "print(\"Initializing GMMHMM Models\")\n",
    "for i in range(NUM_SOUND_HMMS):\n",
    "    model = hmm.GMMHMM(n_components=3, n_mix=100, covariance_type=\"full\")\n",
    "    sound_HMMs.append(model)\n",
    "\n",
    "print(\"Fitting GMMHMM Models using initial sound clustering\")\n",
    "for index, cluster in enumerate(clusters):\n",
    "    print(np.shape(cluster))"
   ]
  },
  {
   "cell_type": "code",
   "execution_count": null,
   "metadata": {},
   "outputs": [],
   "source": [
    "new_clusters = [ [] for c in range(NUM_SOUND_HMMS)]\n",
    "for x in X:\n",
    "    best_model = None\n",
    "    best_model_index = -1\n",
    "    best_score = -1e9\n",
    "    for index, model in enumerate(sound_HMMs):\n",
    "        curr_score = model.score(x)\n",
    "        if curr_score > best_score:\n",
    "            best_score = curr_score\n",
    "            best_model = model\n",
    "            best_model_index = index\n",
    "    new_labels[best_model_index].append(best_model_index)\n",
    "\n",
    "for index, cluster in enumerate(new_clusters):\n",
    "    soundHMMs[index] = sound_HMMs[index].fit(cluster)"
   ]
  }
 ],
 "metadata": {
  "kernelspec": {
   "display_name": "Python 3",
   "language": "python",
   "name": "python3"
  },
  "language_info": {
   "codemirror_mode": {
    "name": "ipython",
    "version": 3
   },
   "file_extension": ".py",
   "mimetype": "text/x-python",
   "name": "python",
   "nbconvert_exporter": "python",
   "pygments_lexer": "ipython3",
   "version": "3.6.7"
  }
 },
 "nbformat": 4,
 "nbformat_minor": 2
}
